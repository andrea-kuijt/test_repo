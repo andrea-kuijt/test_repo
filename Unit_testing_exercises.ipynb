{
  "nbformat": 4,
  "nbformat_minor": 0,
  "metadata": {
    "colab": {
      "name": "Unit testing exercises.ipynb",
      "provenance": [],
      "authorship_tag": "ABX9TyMpnSqivZvMYp3W+xq5GaSr",
      "include_colab_link": true
    },
    "kernelspec": {
      "name": "python3",
      "display_name": "Python 3"
    },
    "language_info": {
      "name": "python"
    }
  },
  "cells": [
    {
      "cell_type": "markdown",
      "metadata": {
        "id": "view-in-github",
        "colab_type": "text"
      },
      "source": [
        "<a href=\"https://colab.research.google.com/github/andrea-kuijt/test_repo/blob/main/Unit_testing_exercises.ipynb\" target=\"_parent\"><img src=\"https://colab.research.google.com/assets/colab-badge.svg\" alt=\"Open In Colab\"/></a>"
      ]
    },
    {
      "cell_type": "code",
      "execution_count": null,
      "metadata": {
        "id": "4saFCJLI5CAB"
      },
      "outputs": [],
      "source": [
        ""
      ]
    }
  ]
}